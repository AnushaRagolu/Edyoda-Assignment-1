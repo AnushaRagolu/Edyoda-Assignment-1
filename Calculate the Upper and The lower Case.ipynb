{
 "cells": [
  {
   "cell_type": "code",
   "execution_count": 15,
   "id": "42a1a98f",
   "metadata": {},
   "outputs": [
    {
     "name": "stdout",
     "output_type": "stream",
     "text": [
      "No. of Upper case characters : 3\n",
      "No. of Lower case Characters : 11\n"
     ]
    }
   ],
   "source": [
    "def case_cal(str_data):\n",
    "    lower_count = upper_count =0\n",
    "    if isinstance(str_data, str):\n",
    "        for ch in str_data:\n",
    "            if ch.isupper():\n",
    "                upper_count += 1\n",
    "            elif ch.islower():\n",
    "                lower_count += 1\n",
    "        return \"No. of Upper case characters : \"+str(upper_count)+\"\\nNo. of Lower case Characters : \"+str(lower_count)\n",
    "    else:\n",
    "        return \"Enter String Value only.\"\n",
    "    \n",
    "    \n",
    "print(case_cal(\"Raju Anu Radhaam\"))"
   ]
  }
 ],
 "metadata": {
  "kernelspec": {
   "display_name": "Python 3 (ipykernel)",
   "language": "python",
   "name": "python3"
  },
  "language_info": {
   "codemirror_mode": {
    "name": "ipython",
    "version": 3
   },
   "file_extension": ".py",
   "mimetype": "text/x-python",
   "name": "python",
   "nbconvert_exporter": "python",
   "pygments_lexer": "ipython3",
   "version": "3.10.2"
  }
 },
 "nbformat": 4,
 "nbformat_minor": 5
}
